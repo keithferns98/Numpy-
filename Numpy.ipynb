{
 "cells": [
  {
   "cell_type": "code",
   "execution_count": 1,
   "id": "91a46530",
   "metadata": {},
   "outputs": [
    {
     "data": {
      "text/plain": [
       "array(['Keith', '2', '3'], dtype='<U11')"
      ]
     },
     "execution_count": 1,
     "metadata": {},
     "output_type": "execute_result"
    }
   ],
   "source": [
    "import numpy as np\n",
    "np.array(['Keith',2,3])"
   ]
  },
  {
   "cell_type": "code",
   "execution_count": 2,
   "id": "c4870dd1",
   "metadata": {},
   "outputs": [
    {
     "data": {
      "text/plain": [
       "array(['1', '2', '3', '4', 'vbvg'], dtype='<U11')"
      ]
     },
     "execution_count": 2,
     "metadata": {},
     "output_type": "execute_result"
    }
   ],
   "source": [
    "np.array([1,2,3,4,'vbvg'])"
   ]
  },
  {
   "cell_type": "code",
   "execution_count": 3,
   "id": "ca68b033",
   "metadata": {},
   "outputs": [
    {
     "data": {
      "text/plain": [
       "array([1., 2., 3.])"
      ]
     },
     "execution_count": 3,
     "metadata": {},
     "output_type": "execute_result"
    }
   ],
   "source": [
    "np.array([1,2,3.])"
   ]
  },
  {
   "cell_type": "code",
   "execution_count": 4,
   "id": "078f4628",
   "metadata": {},
   "outputs": [
    {
     "data": {
      "text/plain": [
       "array([[1, 3],\n",
       "       [2, 3]])"
      ]
     },
     "execution_count": 4,
     "metadata": {},
     "output_type": "execute_result"
    }
   ],
   "source": [
    "np.array([[1,3],[2,3]])"
   ]
  },
  {
   "cell_type": "code",
   "execution_count": 5,
   "id": "4ec47ae0",
   "metadata": {},
   "outputs": [],
   "source": [
    "b=np.array([1,2,3],ndmin=5)"
   ]
  },
  {
   "cell_type": "code",
   "execution_count": 6,
   "id": "b7018a5a",
   "metadata": {},
   "outputs": [
    {
     "data": {
      "text/plain": [
       "array([[[[[1, 2, 3]]]]])"
      ]
     },
     "execution_count": 6,
     "metadata": {},
     "output_type": "execute_result"
    }
   ],
   "source": [
    "b"
   ]
  },
  {
   "cell_type": "code",
   "execution_count": 7,
   "id": "4f901462",
   "metadata": {},
   "outputs": [
    {
     "data": {
      "text/plain": [
       "array(['1', '2', '3', '4'], dtype='<U11')"
      ]
     },
     "execution_count": 7,
     "metadata": {},
     "output_type": "execute_result"
    }
   ],
   "source": [
    "np.array([1,2,3,4],dtype='U11')"
   ]
  },
  {
   "cell_type": "code",
   "execution_count": 8,
   "id": "62c3d4e7",
   "metadata": {},
   "outputs": [],
   "source": [
    "x=np.array([(1,2),(3,4)],dtype=[('a','<i2'),('b','<i8')])"
   ]
  },
  {
   "cell_type": "code",
   "execution_count": 9,
   "id": "3be8d360",
   "metadata": {},
   "outputs": [
    {
     "data": {
      "text/plain": [
       "array([(1, 2), (3, 4)], dtype=[('a', '<i2'), ('b', '<i8')])"
      ]
     },
     "execution_count": 9,
     "metadata": {},
     "output_type": "execute_result"
    }
   ],
   "source": [
    "x"
   ]
  },
  {
   "cell_type": "code",
   "execution_count": 10,
   "id": "f69985ee",
   "metadata": {},
   "outputs": [
    {
     "data": {
      "text/plain": [
       "2"
      ]
     },
     "execution_count": 10,
     "metadata": {},
     "output_type": "execute_result"
    }
   ],
   "source": [
    "x[0][1]"
   ]
  },
  {
   "cell_type": "code",
   "execution_count": 11,
   "id": "40f692b5",
   "metadata": {},
   "outputs": [
    {
     "data": {
      "text/plain": [
       "numpy.int64"
      ]
     },
     "execution_count": 11,
     "metadata": {},
     "output_type": "execute_result"
    }
   ],
   "source": [
    "type(x[0][1])"
   ]
  },
  {
   "cell_type": "code",
   "execution_count": 12,
   "id": "a6be2020",
   "metadata": {},
   "outputs": [
    {
     "data": {
      "text/plain": [
       "1"
      ]
     },
     "execution_count": 12,
     "metadata": {},
     "output_type": "execute_result"
    }
   ],
   "source": [
    "x[0][0]"
   ]
  },
  {
   "cell_type": "code",
   "execution_count": 13,
   "id": "5db9f70b",
   "metadata": {},
   "outputs": [
    {
     "data": {
      "text/plain": [
       "numpy.int16"
      ]
     },
     "execution_count": 13,
     "metadata": {},
     "output_type": "execute_result"
    }
   ],
   "source": [
    "type(x[0][0])"
   ]
  },
  {
   "cell_type": "code",
   "execution_count": 14,
   "id": "d367715e",
   "metadata": {},
   "outputs": [
    {
     "data": {
      "text/plain": [
       "array([[1, 2],\n",
       "       [2, 4]])"
      ]
     },
     "execution_count": 14,
     "metadata": {},
     "output_type": "execute_result"
    }
   ],
   "source": [
    "np.array([[1,2],[2,4]])"
   ]
  },
  {
   "cell_type": "code",
   "execution_count": 15,
   "id": "803cf53f",
   "metadata": {},
   "outputs": [
    {
     "data": {
      "text/plain": [
       "matrix([[1, 2],\n",
       "        [2, 4]])"
      ]
     },
     "execution_count": 15,
     "metadata": {},
     "output_type": "execute_result"
    }
   ],
   "source": [
    "np.mat(np.array([[1,2],[2,4]]))"
   ]
  },
  {
   "cell_type": "code",
   "execution_count": 16,
   "id": "2e8f2387",
   "metadata": {},
   "outputs": [],
   "source": [
    "k=[1,2]"
   ]
  },
  {
   "cell_type": "code",
   "execution_count": 17,
   "id": "c18b7362",
   "metadata": {},
   "outputs": [
    {
     "data": {
      "text/plain": [
       "array([1, 2])"
      ]
     },
     "execution_count": 17,
     "metadata": {},
     "output_type": "execute_result"
    }
   ],
   "source": [
    "np.asarray(k)"
   ]
  },
  {
   "cell_type": "code",
   "execution_count": 18,
   "id": "4c43c1ab",
   "metadata": {},
   "outputs": [
    {
     "data": {
      "text/plain": [
       "array([1, 2])"
      ]
     },
     "execution_count": 18,
     "metadata": {},
     "output_type": "execute_result"
    }
   ],
   "source": [
    "np.array(k)"
   ]
  },
  {
   "cell_type": "code",
   "execution_count": 19,
   "id": "7cc0e71e",
   "metadata": {},
   "outputs": [
    {
     "data": {
      "text/plain": [
       "matrix([[1, 2]])"
      ]
     },
     "execution_count": 19,
     "metadata": {},
     "output_type": "execute_result"
    }
   ],
   "source": [
    "m=np.matrix([1,2])\n",
    "m"
   ]
  },
  {
   "cell_type": "code",
   "execution_count": 20,
   "id": "3ab374e3",
   "metadata": {},
   "outputs": [
    {
     "data": {
      "text/plain": [
       "array([[1, 2]])"
      ]
     },
     "execution_count": 20,
     "metadata": {},
     "output_type": "execute_result"
    }
   ],
   "source": [
    "np.array(m)"
   ]
  },
  {
   "cell_type": "code",
   "execution_count": 21,
   "id": "05354a5c",
   "metadata": {},
   "outputs": [
    {
     "data": {
      "text/plain": [
       "array([[1, 2]])"
      ]
     },
     "execution_count": 21,
     "metadata": {},
     "output_type": "execute_result"
    }
   ],
   "source": [
    "np.asarray(m)"
   ]
  },
  {
   "cell_type": "code",
   "execution_count": 22,
   "id": "657242bf",
   "metadata": {},
   "outputs": [
    {
     "data": {
      "text/plain": [
       "matrix([[1, 2]])"
      ]
     },
     "execution_count": 22,
     "metadata": {},
     "output_type": "execute_result"
    }
   ],
   "source": [
    "np.asanyarray(m)"
   ]
  },
  {
   "cell_type": "code",
   "execution_count": 23,
   "id": "46d39bf6",
   "metadata": {},
   "outputs": [
    {
     "data": {
      "text/plain": [
       "array([1, 2, 3])"
      ]
     },
     "execution_count": 23,
     "metadata": {},
     "output_type": "execute_result"
    }
   ],
   "source": [
    "y=np.array([1,2,3])\n",
    "y"
   ]
  },
  {
   "cell_type": "code",
   "execution_count": 24,
   "id": "45427897",
   "metadata": {},
   "outputs": [],
   "source": [
    "x=y"
   ]
  },
  {
   "cell_type": "code",
   "execution_count": 25,
   "id": "abb50450",
   "metadata": {},
   "outputs": [
    {
     "data": {
      "text/plain": [
       "array([1, 2, 3])"
      ]
     },
     "execution_count": 25,
     "metadata": {},
     "output_type": "execute_result"
    }
   ],
   "source": [
    "y"
   ]
  },
  {
   "cell_type": "code",
   "execution_count": 26,
   "id": "0b11ac8c",
   "metadata": {},
   "outputs": [],
   "source": [
    "y[0]=5"
   ]
  },
  {
   "cell_type": "code",
   "execution_count": 27,
   "id": "cbc89df0",
   "metadata": {},
   "outputs": [
    {
     "data": {
      "text/plain": [
       "array([5, 2, 3])"
      ]
     },
     "execution_count": 27,
     "metadata": {},
     "output_type": "execute_result"
    }
   ],
   "source": [
    "y"
   ]
  },
  {
   "cell_type": "code",
   "execution_count": 28,
   "id": "0e489b31",
   "metadata": {},
   "outputs": [
    {
     "data": {
      "text/plain": [
       "array([5, 2, 3])"
      ]
     },
     "execution_count": 28,
     "metadata": {},
     "output_type": "execute_result"
    }
   ],
   "source": [
    "x"
   ]
  },
  {
   "cell_type": "code",
   "execution_count": 29,
   "id": "c2636580",
   "metadata": {},
   "outputs": [],
   "source": [
    "d=np.copy(x)"
   ]
  },
  {
   "cell_type": "code",
   "execution_count": 30,
   "id": "b84d55f8",
   "metadata": {},
   "outputs": [
    {
     "data": {
      "text/plain": [
       "5"
      ]
     },
     "execution_count": 30,
     "metadata": {},
     "output_type": "execute_result"
    }
   ],
   "source": [
    "d[0]"
   ]
  },
  {
   "cell_type": "code",
   "execution_count": 31,
   "id": "ce8eb4c4",
   "metadata": {},
   "outputs": [],
   "source": [
    "d[0]=2"
   ]
  },
  {
   "cell_type": "code",
   "execution_count": 32,
   "id": "ab56b24f",
   "metadata": {},
   "outputs": [
    {
     "data": {
      "text/plain": [
       "array([2, 2, 3])"
      ]
     },
     "execution_count": 32,
     "metadata": {},
     "output_type": "execute_result"
    }
   ],
   "source": [
    "d"
   ]
  },
  {
   "cell_type": "code",
   "execution_count": 33,
   "id": "2d2e67c5",
   "metadata": {},
   "outputs": [
    {
     "data": {
      "text/plain": [
       "array([5, 2, 3])"
      ]
     },
     "execution_count": 33,
     "metadata": {},
     "output_type": "execute_result"
    }
   ],
   "source": [
    "x"
   ]
  },
  {
   "cell_type": "markdown",
   "id": "254d647b",
   "metadata": {},
   "source": [
    "# numpy fromfunction"
   ]
  },
  {
   "cell_type": "code",
   "execution_count": 34,
   "id": "4e366726",
   "metadata": {},
   "outputs": [
    {
     "data": {
      "text/plain": [
       "array([5, 2, 3])"
      ]
     },
     "execution_count": 34,
     "metadata": {},
     "output_type": "execute_result"
    }
   ],
   "source": [
    "x"
   ]
  },
  {
   "cell_type": "code",
   "execution_count": 35,
   "id": "848e45dc",
   "metadata": {},
   "outputs": [
    {
     "data": {
      "text/plain": [
       "array([[ True, False, False],\n",
       "       [False,  True, False],\n",
       "       [False, False,  True]])"
      ]
     },
     "execution_count": 35,
     "metadata": {},
     "output_type": "execute_result"
    }
   ],
   "source": [
    "np.fromfunction(lambda i,j:i==j,(3,3),dtype=int)"
   ]
  },
  {
   "cell_type": "code",
   "execution_count": 36,
   "id": "87c7b2fc",
   "metadata": {},
   "outputs": [
    {
     "data": {
      "text/plain": [
       "array([[0, 0, 0],\n",
       "       [0, 1, 2],\n",
       "       [0, 2, 4]])"
      ]
     },
     "execution_count": 36,
     "metadata": {},
     "output_type": "execute_result"
    }
   ],
   "source": [
    "np.fromfunction(lambda i,j:i*j,(3,3),dtype=int)"
   ]
  },
  {
   "cell_type": "code",
   "execution_count": 37,
   "id": "bb954bdb",
   "metadata": {},
   "outputs": [
    {
     "data": {
      "text/plain": [
       "array([[[[ 0,  0,  0],\n",
       "         [ 0,  0,  0],\n",
       "         [ 0,  0,  0]],\n",
       "\n",
       "        [[ 0,  0,  0],\n",
       "         [ 0,  0,  0],\n",
       "         [ 0,  0,  0]],\n",
       "\n",
       "        [[ 0,  0,  0],\n",
       "         [ 0,  0,  0],\n",
       "         [ 0,  0,  0]]],\n",
       "\n",
       "\n",
       "       [[[ 0,  0,  0],\n",
       "         [ 0,  0,  0],\n",
       "         [ 0,  0,  0]],\n",
       "\n",
       "        [[ 0,  0,  0],\n",
       "         [ 0,  1,  2],\n",
       "         [ 0,  2,  4]],\n",
       "\n",
       "        [[ 0,  0,  0],\n",
       "         [ 0,  2,  4],\n",
       "         [ 0,  4,  8]]],\n",
       "\n",
       "\n",
       "       [[[ 0,  0,  0],\n",
       "         [ 0,  0,  0],\n",
       "         [ 0,  0,  0]],\n",
       "\n",
       "        [[ 0,  0,  0],\n",
       "         [ 0,  2,  4],\n",
       "         [ 0,  4,  8]],\n",
       "\n",
       "        [[ 0,  0,  0],\n",
       "         [ 0,  4,  8],\n",
       "         [ 0,  8, 16]]]])"
      ]
     },
     "execution_count": 37,
     "metadata": {},
     "output_type": "execute_result"
    }
   ],
   "source": [
    "np.fromfunction(lambda i,j,k,m:i*j*k*m,(3,3,3,3),dtype=int)"
   ]
  },
  {
   "cell_type": "code",
   "execution_count": 38,
   "id": "2659cd75",
   "metadata": {},
   "outputs": [
    {
     "data": {
      "text/plain": [
       "array([234., 234.])"
      ]
     },
     "execution_count": 38,
     "metadata": {},
     "output_type": "execute_result"
    }
   ],
   "source": [
    "np.fromstring('234 234',sep=\" \")"
   ]
  },
  {
   "cell_type": "code",
   "execution_count": 39,
   "id": "be1e4c79",
   "metadata": {},
   "outputs": [
    {
     "data": {
      "text/plain": [
       "array([1, 2])"
      ]
     },
     "execution_count": 39,
     "metadata": {},
     "output_type": "execute_result"
    }
   ],
   "source": [
    "np.fromstring('1 , 2',dtype=int,sep=',')"
   ]
  },
  {
   "cell_type": "code",
   "execution_count": 40,
   "id": "4a4c759e",
   "metadata": {},
   "outputs": [
    {
     "name": "stdout",
     "output_type": "stream",
     "text": [
      "type of the array <class 'numpy.ndarray'>\n",
      "vector\n",
      "-----------\n",
      " [1 2 4]\n"
     ]
    }
   ],
   "source": [
    "my_list=[1,2,4]\n",
    "arr=np.array(my_list)\n",
    "print('type of the array',type(arr))\n",
    "print('vector\\n-----------\\n',arr)"
   ]
  },
  {
   "cell_type": "code",
   "execution_count": 41,
   "id": "c8335349",
   "metadata": {},
   "outputs": [
    {
     "name": "stdout",
     "output_type": "stream",
     "text": [
      "Type <class 'numpy.matrix'>\n",
      "Here is the matrix\n",
      "--------\n",
      " [[1 2 3]\n",
      " [4 5 6]\n",
      " [7 8 9]] \n",
      "--------\n",
      "\n",
      "Here is the dimension2\n",
      "Here is the size9\n",
      "Here is the shape(3, 3)\n",
      "Data Typeint32\n"
     ]
    }
   ],
   "source": [
    "my_mat=[[1,2,3],[4,5,6],[7,8,9]]\n",
    "mat=np.matrix(my_mat)\n",
    "print('Type',type(mat))\n",
    "print('Here is the matrix\\n--------\\n',mat,'\\n--------\\n')\n",
    "print('Here is the dimension',mat.ndim,sep='')\n",
    "print('Here is the size',mat.size,sep='')\n",
    "print('Here is the shape',mat.shape,sep='')\n",
    "print('Data Type',mat.dtype,sep='')\n"
   ]
  },
  {
   "cell_type": "markdown",
   "id": "8b7a2a23",
   "metadata": {},
   "source": [
    "# arange and linspace"
   ]
  },
  {
   "cell_type": "code",
   "execution_count": 46,
   "id": "7ec34119",
   "metadata": {},
   "outputs": [],
   "source": [
    "a=range(4,7)"
   ]
  },
  {
   "cell_type": "code",
   "execution_count": 51,
   "id": "89430e53",
   "metadata": {},
   "outputs": [],
   "source": [
    "b=iter(a)\n"
   ]
  },
  {
   "cell_type": "code",
   "execution_count": 53,
   "id": "cb9436d6",
   "metadata": {},
   "outputs": [
    {
     "data": {
      "text/plain": [
       "5"
      ]
     },
     "execution_count": 53,
     "metadata": {},
     "output_type": "execute_result"
    }
   ],
   "source": [
    "next(b)"
   ]
  },
  {
   "cell_type": "code",
   "execution_count": 56,
   "id": "a2312c44",
   "metadata": {},
   "outputs": [
    {
     "data": {
      "text/plain": [
       "array([ 2.2,  4.2,  6.2,  8.2, 10.2, 12.2, 14.2, 16.2, 18.2, 20.2, 22.2,\n",
       "       24.2, 26.2, 28.2, 30.2, 32.2, 34.2, 36.2, 38.2, 40.2, 42.2, 44.2,\n",
       "       46.2, 48.2, 50.2])"
      ]
     },
     "execution_count": 56,
     "metadata": {},
     "output_type": "execute_result"
    }
   ],
   "source": [
    "np.arange(2.2,50.4,2)"
   ]
  },
  {
   "cell_type": "code",
   "execution_count": 57,
   "id": "3408f4f4",
   "metadata": {},
   "outputs": [
    {
     "data": {
      "text/plain": [
       "array([1.        , 1.08163265, 1.16326531, 1.24489796, 1.32653061,\n",
       "       1.40816327, 1.48979592, 1.57142857, 1.65306122, 1.73469388,\n",
       "       1.81632653, 1.89795918, 1.97959184, 2.06122449, 2.14285714,\n",
       "       2.2244898 , 2.30612245, 2.3877551 , 2.46938776, 2.55102041,\n",
       "       2.63265306, 2.71428571, 2.79591837, 2.87755102, 2.95918367,\n",
       "       3.04081633, 3.12244898, 3.20408163, 3.28571429, 3.36734694,\n",
       "       3.44897959, 3.53061224, 3.6122449 , 3.69387755, 3.7755102 ,\n",
       "       3.85714286, 3.93877551, 4.02040816, 4.10204082, 4.18367347,\n",
       "       4.26530612, 4.34693878, 4.42857143, 4.51020408, 4.59183673,\n",
       "       4.67346939, 4.75510204, 4.83673469, 4.91836735, 5.        ])"
      ]
     },
     "execution_count": 57,
     "metadata": {},
     "output_type": "execute_result"
    }
   ],
   "source": [
    "np.linspace(1,5,50)"
   ]
  },
  {
   "cell_type": "code",
   "execution_count": 61,
   "id": "ffad32fd",
   "metadata": {},
   "outputs": [
    {
     "ename": "TypeError",
     "evalue": "Cannot interpret '10' as a data type",
     "output_type": "error",
     "traceback": [
      "\u001b[1;31m---------------------------------------------------------------------------\u001b[0m",
      "\u001b[1;31mTypeError\u001b[0m                                 Traceback (most recent call last)",
      "\u001b[1;32m~\\AppData\\Local\\Temp/ipykernel_11012/3749884388.py\u001b[0m in \u001b[0;36m<module>\u001b[1;34m\u001b[0m\n\u001b[1;32m----> 1\u001b[1;33m \u001b[0mnp\u001b[0m\u001b[1;33m.\u001b[0m\u001b[0mlinspace\u001b[0m\u001b[1;33m(\u001b[0m\u001b[1;36m1\u001b[0m\u001b[1;33m,\u001b[0m\u001b[1;36m5\u001b[0m\u001b[1;33m,\u001b[0m\u001b[1;36m50\u001b[0m\u001b[1;33m,\u001b[0m\u001b[1;36m5\u001b[0m\u001b[1;33m,\u001b[0m\u001b[1;36m5\u001b[0m\u001b[1;33m,\u001b[0m\u001b[1;36m10\u001b[0m\u001b[1;33m)\u001b[0m\u001b[1;33m\u001b[0m\u001b[1;33m\u001b[0m\u001b[0m\n\u001b[0m",
      "\u001b[1;32m<__array_function__ internals>\u001b[0m in \u001b[0;36mlinspace\u001b[1;34m(*args, **kwargs)\u001b[0m\n",
      "\u001b[1;32m~\\anaconda3\\envs\\ML_Models\\lib\\site-packages\\numpy\\core\\function_base.py\u001b[0m in \u001b[0;36mlinspace\u001b[1;34m(start, stop, num, endpoint, retstep, dtype, axis)\u001b[0m\n\u001b[0;32m    167\u001b[0m         \u001b[0my\u001b[0m \u001b[1;33m=\u001b[0m \u001b[0m_nx\u001b[0m\u001b[1;33m.\u001b[0m\u001b[0mmoveaxis\u001b[0m\u001b[1;33m(\u001b[0m\u001b[0my\u001b[0m\u001b[1;33m,\u001b[0m \u001b[1;36m0\u001b[0m\u001b[1;33m,\u001b[0m \u001b[0maxis\u001b[0m\u001b[1;33m)\u001b[0m\u001b[1;33m\u001b[0m\u001b[1;33m\u001b[0m\u001b[0m\n\u001b[0;32m    168\u001b[0m \u001b[1;33m\u001b[0m\u001b[0m\n\u001b[1;32m--> 169\u001b[1;33m     \u001b[1;32mif\u001b[0m \u001b[0m_nx\u001b[0m\u001b[1;33m.\u001b[0m\u001b[0missubdtype\u001b[0m\u001b[1;33m(\u001b[0m\u001b[0mdtype\u001b[0m\u001b[1;33m,\u001b[0m \u001b[0m_nx\u001b[0m\u001b[1;33m.\u001b[0m\u001b[0minteger\u001b[0m\u001b[1;33m)\u001b[0m\u001b[1;33m:\u001b[0m\u001b[1;33m\u001b[0m\u001b[1;33m\u001b[0m\u001b[0m\n\u001b[0m\u001b[0;32m    170\u001b[0m         \u001b[0m_nx\u001b[0m\u001b[1;33m.\u001b[0m\u001b[0mfloor\u001b[0m\u001b[1;33m(\u001b[0m\u001b[0my\u001b[0m\u001b[1;33m,\u001b[0m \u001b[0mout\u001b[0m\u001b[1;33m=\u001b[0m\u001b[0my\u001b[0m\u001b[1;33m)\u001b[0m\u001b[1;33m\u001b[0m\u001b[1;33m\u001b[0m\u001b[0m\n\u001b[0;32m    171\u001b[0m \u001b[1;33m\u001b[0m\u001b[0m\n",
      "\u001b[1;32m~\\anaconda3\\envs\\ML_Models\\lib\\site-packages\\numpy\\core\\numerictypes.py\u001b[0m in \u001b[0;36missubdtype\u001b[1;34m(arg1, arg2)\u001b[0m\n\u001b[0;32m    416\u001b[0m     \"\"\"\n\u001b[0;32m    417\u001b[0m     \u001b[1;32mif\u001b[0m \u001b[1;32mnot\u001b[0m \u001b[0missubclass_\u001b[0m\u001b[1;33m(\u001b[0m\u001b[0marg1\u001b[0m\u001b[1;33m,\u001b[0m \u001b[0mgeneric\u001b[0m\u001b[1;33m)\u001b[0m\u001b[1;33m:\u001b[0m\u001b[1;33m\u001b[0m\u001b[1;33m\u001b[0m\u001b[0m\n\u001b[1;32m--> 418\u001b[1;33m         \u001b[0marg1\u001b[0m \u001b[1;33m=\u001b[0m \u001b[0mdtype\u001b[0m\u001b[1;33m(\u001b[0m\u001b[0marg1\u001b[0m\u001b[1;33m)\u001b[0m\u001b[1;33m.\u001b[0m\u001b[0mtype\u001b[0m\u001b[1;33m\u001b[0m\u001b[1;33m\u001b[0m\u001b[0m\n\u001b[0m\u001b[0;32m    419\u001b[0m     \u001b[1;32mif\u001b[0m \u001b[1;32mnot\u001b[0m \u001b[0missubclass_\u001b[0m\u001b[1;33m(\u001b[0m\u001b[0marg2\u001b[0m\u001b[1;33m,\u001b[0m \u001b[0mgeneric\u001b[0m\u001b[1;33m)\u001b[0m\u001b[1;33m:\u001b[0m\u001b[1;33m\u001b[0m\u001b[1;33m\u001b[0m\u001b[0m\n\u001b[0;32m    420\u001b[0m         \u001b[0marg2\u001b[0m \u001b[1;33m=\u001b[0m \u001b[0mdtype\u001b[0m\u001b[1;33m(\u001b[0m\u001b[0marg2\u001b[0m\u001b[1;33m)\u001b[0m\u001b[1;33m.\u001b[0m\u001b[0mtype\u001b[0m\u001b[1;33m\u001b[0m\u001b[1;33m\u001b[0m\u001b[0m\n",
      "\u001b[1;31mTypeError\u001b[0m: Cannot interpret '10' as a data type"
     ]
    }
   ],
   "source": []
  },
  {
   "cell_type": "markdown",
   "id": "ebb1da13",
   "metadata": {},
   "source": [
    "# Matrix Creation"
   ]
  },
  {
   "cell_type": "code",
   "execution_count": 62,
   "id": "129fed25",
   "metadata": {},
   "outputs": [
    {
     "name": "stdout",
     "output_type": "stream",
     "text": [
      "Vector of zeros\n",
      "-----------\n",
      "[0. 0. 0. 0. 0.]\n"
     ]
    }
   ],
   "source": [
    "print('Vector of zeros\\n-----------')\n",
    "print(np.zeros(5))"
   ]
  },
  {
   "cell_type": "code",
   "execution_count": 63,
   "id": "f1799a5e",
   "metadata": {},
   "outputs": [
    {
     "data": {
      "text/plain": [
       "array([[0., 0., 0., 0.],\n",
       "       [0., 0., 0., 0.],\n",
       "       [0., 0., 0., 0.]])"
      ]
     },
     "execution_count": 63,
     "metadata": {},
     "output_type": "execute_result"
    }
   ],
   "source": [
    "np.zeros((3,4))"
   ]
  },
  {
   "cell_type": "code",
   "execution_count": 71,
   "id": "adc9bf93",
   "metadata": {},
   "outputs": [
    {
     "data": {
      "text/plain": [
       "array([[[[0., 0.],\n",
       "         [0., 0.],\n",
       "         [0., 0.],\n",
       "         [0., 0.]],\n",
       "\n",
       "        [[0., 0.],\n",
       "         [0., 0.],\n",
       "         [0., 0.],\n",
       "         [0., 0.]],\n",
       "\n",
       "        [[0., 0.],\n",
       "         [0., 0.],\n",
       "         [0., 0.],\n",
       "         [0., 0.]],\n",
       "\n",
       "        [[0., 0.],\n",
       "         [0., 0.],\n",
       "         [0., 0.],\n",
       "         [0., 0.]]],\n",
       "\n",
       "\n",
       "       [[[0., 0.],\n",
       "         [0., 0.],\n",
       "         [0., 0.],\n",
       "         [0., 0.]],\n",
       "\n",
       "        [[0., 0.],\n",
       "         [0., 0.],\n",
       "         [0., 0.],\n",
       "         [0., 0.]],\n",
       "\n",
       "        [[0., 0.],\n",
       "         [0., 0.],\n",
       "         [0., 0.],\n",
       "         [0., 0.]],\n",
       "\n",
       "        [[0., 0.],\n",
       "         [0., 0.],\n",
       "         [0., 0.],\n",
       "         [0., 0.]]],\n",
       "\n",
       "\n",
       "       [[[0., 0.],\n",
       "         [0., 0.],\n",
       "         [0., 0.],\n",
       "         [0., 0.]],\n",
       "\n",
       "        [[0., 0.],\n",
       "         [0., 0.],\n",
       "         [0., 0.],\n",
       "         [0., 0.]],\n",
       "\n",
       "        [[0., 0.],\n",
       "         [0., 0.],\n",
       "         [0., 0.],\n",
       "         [0., 0.]],\n",
       "\n",
       "        [[0., 0.],\n",
       "         [0., 0.],\n",
       "         [0., 0.],\n",
       "         [0., 0.]]],\n",
       "\n",
       "\n",
       "       [[[0., 0.],\n",
       "         [0., 0.],\n",
       "         [0., 0.],\n",
       "         [0., 0.]],\n",
       "\n",
       "        [[0., 0.],\n",
       "         [0., 0.],\n",
       "         [0., 0.],\n",
       "         [0., 0.]],\n",
       "\n",
       "        [[0., 0.],\n",
       "         [0., 0.],\n",
       "         [0., 0.],\n",
       "         [0., 0.]],\n",
       "\n",
       "        [[0., 0.],\n",
       "         [0., 0.],\n",
       "         [0., 0.],\n",
       "         [0., 0.]]]])"
      ]
     },
     "execution_count": 71,
     "metadata": {},
     "output_type": "execute_result"
    }
   ],
   "source": [
    "np.zeros((4,4,4,2))"
   ]
  },
  {
   "cell_type": "code",
   "execution_count": 72,
   "id": "5e97a91b",
   "metadata": {},
   "outputs": [
    {
     "data": {
      "text/plain": [
       "array([[1., 0., 0., 0.],\n",
       "       [0., 1., 0., 0.],\n",
       "       [0., 0., 1., 0.],\n",
       "       [0., 0., 0., 1.]])"
      ]
     },
     "execution_count": 72,
     "metadata": {},
     "output_type": "execute_result"
    }
   ],
   "source": [
    "np.eye(4)"
   ]
  },
  {
   "cell_type": "code",
   "execution_count": 77,
   "id": "924dd349",
   "metadata": {},
   "outputs": [
    {
     "data": {
      "text/plain": [
       "array([[[10., 10., 10., 10., 10., 10., 10., 10.],\n",
       "        [10., 10., 10., 10., 10., 10., 10., 10.],\n",
       "        [10., 10., 10., 10., 10., 10., 10., 10.],\n",
       "        [10., 10., 10., 10., 10., 10., 10., 10.]],\n",
       "\n",
       "       [[10., 10., 10., 10., 10., 10., 10., 10.],\n",
       "        [10., 10., 10., 10., 10., 10., 10., 10.],\n",
       "        [10., 10., 10., 10., 10., 10., 10., 10.],\n",
       "        [10., 10., 10., 10., 10., 10., 10., 10.]],\n",
       "\n",
       "       [[10., 10., 10., 10., 10., 10., 10., 10.],\n",
       "        [10., 10., 10., 10., 10., 10., 10., 10.],\n",
       "        [10., 10., 10., 10., 10., 10., 10., 10.],\n",
       "        [10., 10., 10., 10., 10., 10., 10., 10.]]])"
      ]
     },
     "execution_count": 77,
     "metadata": {},
     "output_type": "execute_result"
    }
   ],
   "source": [
    "np.zeros((3,4,8))+5*2"
   ]
  },
  {
   "cell_type": "code",
   "execution_count": 78,
   "id": "33208e97",
   "metadata": {},
   "outputs": [
    {
     "data": {
      "text/plain": [
       "array([4.        , 4.05063291, 4.10126582, 4.15189873, 4.20253165,\n",
       "       4.25316456, 4.30379747, 4.35443038, 4.40506329, 4.4556962 ,\n",
       "       4.50632911, 4.55696203, 4.60759494, 4.65822785, 4.70886076,\n",
       "       4.75949367, 4.81012658, 4.86075949, 4.91139241, 4.96202532,\n",
       "       5.01265823, 5.06329114, 5.11392405, 5.16455696, 5.21518987,\n",
       "       5.26582278, 5.3164557 , 5.36708861, 5.41772152, 5.46835443,\n",
       "       5.51898734, 5.56962025, 5.62025316, 5.67088608, 5.72151899,\n",
       "       5.7721519 , 5.82278481, 5.87341772, 5.92405063, 5.97468354,\n",
       "       6.02531646, 6.07594937, 6.12658228, 6.17721519, 6.2278481 ,\n",
       "       6.27848101, 6.32911392, 6.37974684, 6.43037975, 6.48101266,\n",
       "       6.53164557, 6.58227848, 6.63291139, 6.6835443 , 6.73417722,\n",
       "       6.78481013, 6.83544304, 6.88607595, 6.93670886, 6.98734177,\n",
       "       7.03797468, 7.08860759, 7.13924051, 7.18987342, 7.24050633,\n",
       "       7.29113924, 7.34177215, 7.39240506, 7.44303797, 7.49367089,\n",
       "       7.5443038 , 7.59493671, 7.64556962, 7.69620253, 7.74683544,\n",
       "       7.79746835, 7.84810127, 7.89873418, 7.94936709, 8.        ])"
      ]
     },
     "execution_count": 78,
     "metadata": {},
     "output_type": "execute_result"
    }
   ],
   "source": [
    "np.linspace(4,8,80)"
   ]
  },
  {
   "cell_type": "code",
   "execution_count": 79,
   "id": "cddc135e",
   "metadata": {},
   "outputs": [
    {
     "data": {
      "text/plain": [
       "array([[[6., 6., 6.],\n",
       "        [6., 6., 6.],\n",
       "        [6., 6., 6.]],\n",
       "\n",
       "       [[6., 6., 6.],\n",
       "        [6., 6., 6.],\n",
       "        [6., 6., 6.]],\n",
       "\n",
       "       [[6., 6., 6.],\n",
       "        [6., 6., 6.],\n",
       "        [6., 6., 6.]]])"
      ]
     },
     "execution_count": 79,
     "metadata": {},
     "output_type": "execute_result"
    }
   ],
   "source": [
    "np.ones((3,3,3))+5"
   ]
  },
  {
   "cell_type": "code",
   "execution_count": null,
   "id": "66fe6be0",
   "metadata": {},
   "outputs": [],
   "source": []
  }
 ],
 "metadata": {
  "kernelspec": {
   "display_name": "Python 3 (ipykernel)",
   "language": "python",
   "name": "python3"
  },
  "language_info": {
   "codemirror_mode": {
    "name": "ipython",
    "version": 3
   },
   "file_extension": ".py",
   "mimetype": "text/x-python",
   "name": "python",
   "nbconvert_exporter": "python",
   "pygments_lexer": "ipython3",
   "version": "3.8.11"
  }
 },
 "nbformat": 4,
 "nbformat_minor": 5
}
